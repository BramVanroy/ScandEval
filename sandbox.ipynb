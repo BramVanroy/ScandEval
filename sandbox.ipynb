{
 "cells": [
  {
   "cell_type": "code",
   "execution_count": 1,
   "id": "e36406df-f402-412f-a952-4a58638561cd",
   "metadata": {},
   "outputs": [],
   "source": [
    "%reload_ext autoreload\n",
    "%autoreload 2"
   ]
  },
  {
   "cell_type": "code",
   "execution_count": 4,
   "id": "4e97d019-1724-443a-a46e-4e5ed70b3d2b",
   "metadata": {},
   "outputs": [],
   "source": [
    "from scandeval.dane import DaneEvaluator"
   ]
  },
  {
   "cell_type": "code",
   "execution_count": 5,
   "id": "00193f76-6d70-4940-a697-854697df31a7",
   "metadata": {},
   "outputs": [],
   "source": [
    "evaluator = DaneEvaluator()"
   ]
  },
  {
   "cell_type": "code",
   "execution_count": 19,
   "id": "3e18b712-6359-446d-8c87-4a52535a1d54",
   "metadata": {},
   "outputs": [],
   "source": [
    "model_id = 'bert-large-uncased-whole-word-masking-finetuned-squad'"
   ]
  },
  {
   "cell_type": "code",
   "execution_count": 20,
   "id": "7024b1e8-bfc7-4913-9e21-8aaaaea255aa",
   "metadata": {},
   "outputs": [
    {
     "data": {
      "text/plain": [
       "{'framework': 'pytorch', 'task': 'question-answering'}"
      ]
     },
     "execution_count": 20,
     "metadata": {},
     "output_type": "execute_result"
    }
   ],
   "source": [
    "evaluator._fetch_model_metadata(model_id)"
   ]
  },
  {
   "cell_type": "code",
   "execution_count": null,
   "id": "26036261-f1b4-43c8-b39e-4db25188d93b",
   "metadata": {},
   "outputs": [],
   "source": [
    "evaluator(model_id)"
   ]
  },
  {
   "cell_type": "code",
   "execution_count": null,
   "id": "e12c6719-5bc4-4061-9dfc-b2bc9d62717d",
   "metadata": {},
   "outputs": [],
   "source": []
  }
 ],
 "metadata": {
  "kernelspec": {
   "display_name": "Python 3 (ipykernel)",
   "language": "python",
   "name": "python3"
  },
  "language_info": {
   "codemirror_mode": {
    "name": "ipython",
    "version": 3
   },
   "file_extension": ".py",
   "mimetype": "text/x-python",
   "name": "python",
   "nbconvert_exporter": "python",
   "pygments_lexer": "ipython3",
   "version": "3.8.3"
  }
 },
 "nbformat": 4,
 "nbformat_minor": 5
}
